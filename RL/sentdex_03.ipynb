{
  "nbformat": 4,
  "nbformat_minor": 0,
  "metadata": {
    "colab": {
      "name": "sentdex-03",
      "provenance": [],
      "collapsed_sections": [],
      "include_colab_link": true
    },
    "kernelspec": {
      "name": "python3",
      "display_name": "Python 3"
    },
    "accelerator": "GPU"
  },
  "cells": [
    {
      "cell_type": "markdown",
      "metadata": {
        "id": "view-in-github",
        "colab_type": "text"
      },
      "source": [
        "<a href=\"https://colab.research.google.com/github/jo-cho/memos/blob/master/RL/sentdex_03.ipynb\" target=\"_parent\"><img src=\"https://colab.research.google.com/assets/colab-badge.svg\" alt=\"Open In Colab\"/></a>"
      ]
    },
    {
      "cell_type": "code",
      "metadata": {
        "id": "tCclhd5kv-76",
        "colab_type": "code",
        "colab": {}
      },
      "source": [
        "import gym\n",
        "import numpy as np\n",
        "import matplotlib.pyplot as plt\n",
        "from IPython import display as ipythondisplay"
      ],
      "execution_count": 0,
      "outputs": []
    },
    {
      "cell_type": "markdown",
      "metadata": {
        "id": "Rr2BPjVGW3w2",
        "colab_type": "text"
      },
      "source": [
        "RL"
      ]
    },
    {
      "cell_type": "code",
      "metadata": {
        "id": "GfQyq506KsFQ",
        "colab_type": "code",
        "outputId": "63918b9a-416e-4a08-f8e7-ffbcd8afd250",
        "colab": {
          "base_uri": "https://localhost:8080/",
          "height": 479
        }
      },
      "source": [
        "!pip install -q pyvirtualdisplay\n",
        "!sudo apt-get install -q xvfb"
      ],
      "execution_count": 0,
      "outputs": [
        {
          "output_type": "stream",
          "text": [
            "Reading package lists...\n",
            "Building dependency tree...\n",
            "Reading state information...\n",
            "The following package was automatically installed and is no longer required:\n",
            "  libnvidia-common-430\n",
            "Use 'sudo apt autoremove' to remove it.\n",
            "The following NEW packages will be installed:\n",
            "  xvfb\n",
            "0 upgraded, 1 newly installed, 0 to remove and 7 not upgraded.\n",
            "Need to get 783 kB of archives.\n",
            "After this operation, 2,266 kB of additional disk space will be used.\n",
            "Get:1 http://archive.ubuntu.com/ubuntu bionic-updates/universe amd64 xvfb amd64 2:1.19.6-1ubuntu4.3 [783 kB]\n",
            "Fetched 783 kB in 0s (7,544 kB/s)\n",
            "debconf: unable to initialize frontend: Dialog\n",
            "debconf: (No usable dialog-like program is installed, so the dialog based frontend cannot be used. at /usr/share/perl5/Debconf/FrontEnd/Dialog.pm line 76, <> line 1.)\n",
            "debconf: falling back to frontend: Readline\n",
            "debconf: unable to initialize frontend: Readline\n",
            "debconf: (This frontend requires a controlling tty.)\n",
            "debconf: falling back to frontend: Teletype\n",
            "dpkg-preconfigure: unable to re-open stdin: \n",
            "Selecting previously unselected package xvfb.\n",
            "(Reading database ... 145653 files and directories currently installed.)\n",
            "Preparing to unpack .../xvfb_2%3a1.19.6-1ubuntu4.3_amd64.deb ...\n",
            "Unpacking xvfb (2:1.19.6-1ubuntu4.3) ...\n",
            "Setting up xvfb (2:1.19.6-1ubuntu4.3) ...\n",
            "Processing triggers for man-db (2.8.3-2ubuntu0.1) ...\n"
          ],
          "name": "stdout"
        }
      ]
    },
    {
      "cell_type": "code",
      "metadata": {
        "id": "obcaMzMa1QS4",
        "colab_type": "code",
        "outputId": "fb2123ca-8b9e-4619-db6f-acd3bb690ec7",
        "colab": {
          "base_uri": "https://localhost:8080/",
          "height": 71
        }
      },
      "source": [
        "from pyvirtualdisplay import Display\n",
        "display = Display(visible=0, size=(1400, 900))\n",
        "display.start()"
      ],
      "execution_count": 0,
      "outputs": [
        {
          "output_type": "stream",
          "text": [
            "xdpyinfo was not found, X start can not be checked! Please install xdpyinfo!\n"
          ],
          "name": "stderr"
        },
        {
          "output_type": "execute_result",
          "data": {
            "text/plain": [
              "<Display cmd_param=['Xvfb', '-br', '-nolisten', 'tcp', '-screen', '0', '1400x900x24', ':1001'] cmd=['Xvfb', '-br', '-nolisten', 'tcp', '-screen', '0', '1400x900x24', ':1001'] oserror=None return_code=None stdout=\"None\" stderr=\"None\" timeout_happened=False>"
            ]
          },
          "metadata": {
            "tags": []
          },
          "execution_count": 3
        }
      ]
    },
    {
      "cell_type": "markdown",
      "metadata": {
        "id": "SzweasLs6tSk",
        "colab_type": "text"
      },
      "source": [
        "tracking\n"
      ]
    },
    {
      "cell_type": "markdown",
      "metadata": {
        "id": "kh-WtRkO7I55",
        "colab_type": "text"
      },
      "source": [
        "엡실론을 넣자 (exploration개념)"
      ]
    },
    {
      "cell_type": "code",
      "metadata": {
        "id": "Gsx3rAzD9XNs",
        "colab_type": "code",
        "outputId": "471cce21-33ed-4b26-f0c9-0722f98d9be5",
        "colab": {
          "base_uri": "https://localhost:8080/",
          "height": 945
        }
      },
      "source": [
        "# objective is to get the cart to the flag.\n",
        "# for now, let's just move randomly:\n",
        "\n",
        "import gym\n",
        "import numpy as np\n",
        "import matplotlib.pyplot as plt\n",
        "\n",
        "\n",
        "env = gym.make(\"MountainCar-v0\")\n",
        "\n",
        "LEARNING_RATE = 0.1\n",
        "\n",
        "DISCOUNT = 0.95\n",
        "EPISODES = 10000\n",
        "SHOW_EVERY = 500\n",
        "\n",
        "DISCRETE_OS_SIZE = [40] * len(env.observation_space.high)\n",
        "discrete_os_win_size = (env.observation_space.high - env.observation_space.low)/DISCRETE_OS_SIZE\n",
        "\n",
        "# Exploration settings\n",
        "epsilon = 1  # not a constant, qoing to be decayed\n",
        "START_EPSILON_DECAYING = 1\n",
        "END_EPSILON_DECAYING = EPISODES // 2\n",
        "epsilon_decay_value = epsilon/(END_EPSILON_DECAYING - START_EPSILON_DECAYING)\n",
        "\n",
        "\n",
        "q_table = np.random.uniform(low=-2, high=0, size=(DISCRETE_OS_SIZE + [env.action_space.n]))\n",
        "\n",
        "ep_rewards = []\n",
        "aggr_ep_rewards = {'ep':[],'avg':[],'min':[],'max':[]} #which models\n",
        "\n",
        "\n",
        "def get_discrete_state(state):\n",
        "    discrete_state = (state - env.observation_space.low)/discrete_os_win_size\n",
        "    return tuple(discrete_state.astype(np.int))  # we use this tuple to look up the 3 Q values for the available actions in the q-table\n",
        "\n",
        "\n",
        "for episode in range(EPISODES):\n",
        "    episode_reward = 0\n",
        "    discrete_state = get_discrete_state(env.reset())\n",
        "    done = False\n",
        "\n",
        "    if episode % SHOW_EVERY == 0:\n",
        "        render = True\n",
        "        print(episode)\n",
        "    else:\n",
        "        render = False\n",
        "\n",
        "    while not done:\n",
        "\n",
        "        if np.random.random() > epsilon:\n",
        "            # Get action from Q table\n",
        "            action = np.argmax(q_table[discrete_state])\n",
        "        else:\n",
        "            # Get random action\n",
        "            action = np.random.randint(0, env.action_space.n)\n",
        "\n",
        "\n",
        "        new_state, reward, done, _ = env.step(action)\n",
        "        episode_reward += reward\n",
        "\n",
        "        new_discrete_state = get_discrete_state(new_state)\n",
        "\n",
        "        if episode % SHOW_EVERY == 0:\n",
        "            env.render()\n",
        "        #new_q = (1 - LEARNING_RATE) * current_q + LEARNING_RATE * (reward + DISCOUNT * max_future_q)\n",
        "\n",
        "        # If simulation did not end yet after last step - update Q table\n",
        "        if not done:\n",
        "\n",
        "            # Maximum possible Q value in next step (for new state)\n",
        "            max_future_q = np.max(q_table[new_discrete_state])\n",
        "\n",
        "            # Current Q value (for current state and performed action)\n",
        "            current_q = q_table[discrete_state + (action,)]\n",
        "\n",
        "            # And here's our equation for a new Q value for current state and action\n",
        "            new_q = (1 - LEARNING_RATE) * current_q + LEARNING_RATE * (reward + DISCOUNT * max_future_q)\n",
        "\n",
        "            # Update Q table with new Q value\n",
        "            q_table[discrete_state + (action,)] = new_q\n",
        "\n",
        "\n",
        "        # Simulation ended (for any reson) - if goal position is achived - update Q value with reward directly\n",
        "        elif new_state[0] >= env.goal_position:\n",
        "            #print(f\"We made it on episode {episode}\")\n",
        "            #q_table[discrete_state + (action,)] = reward\n",
        "            q_table[discrete_state + (action,)] = 0\n",
        "\n",
        "        discrete_state = new_discrete_state\n",
        "\n",
        "    # Decaying is being done every episode if episode number is within decaying range\n",
        "    if END_EPSILON_DECAYING >= episode >= START_EPSILON_DECAYING:\n",
        "        epsilon -= epsilon_decay_value\n",
        "\n",
        "    ep_rewards.append(episode_reward)\n",
        "\n",
        "    if not episode % SHOW_EVERY:\n",
        "        average_reward = sum(ep_rewards[-SHOW_EVERY:])/len(ep_rewards[-SHOW_EVERY:])\n",
        "        aggr_ep_rewards['ep'].append(episode)\n",
        "        aggr_ep_rewards['avg'].append(average_reward)\n",
        "        aggr_ep_rewards['min'].append(min(ep_rewards[-SHOW_EVERY:]))\n",
        "        aggr_ep_rewards['max'].append(max(ep_rewards[-SHOW_EVERY:]))\n",
        "\n",
        "        print(f\"Episode : {episode}, avg : {average_reward}, min : {min(ep_rewards[-SHOW_EVERY:])}, max : {max(ep_rewards[-SHOW_EVERY:])}\")\n",
        "\n",
        "\n",
        "env.close()\n",
        "plt.plot(aggr_ep_rewards['ep'], aggr_ep_rewards['avg'], label='avg')\n",
        "plt.plot(aggr_ep_rewards['ep'], aggr_ep_rewards['min'], label='min')\n",
        "plt.plot(aggr_ep_rewards['ep'], aggr_ep_rewards['max'], label='max')\n",
        "plt.legend(loc=2)\n",
        "plt.grid(True)\n",
        "plt.show()\n"
      ],
      "execution_count": 0,
      "outputs": [
        {
          "output_type": "stream",
          "text": [
            "0\n",
            "Episode : 0, avg : -200.0, min : -200.0, max : -200.0\n",
            "500\n",
            "Episode : 500, avg : -200.0, min : -200.0, max : -200.0\n",
            "1000\n",
            "Episode : 1000, avg : -200.0, min : -200.0, max : -200.0\n",
            "1500\n",
            "Episode : 1500, avg : -200.0, min : -200.0, max : -200.0\n",
            "2000\n",
            "Episode : 2000, avg : -200.0, min : -200.0, max : -200.0\n",
            "2500\n",
            "Episode : 2500, avg : -200.0, min : -200.0, max : -200.0\n",
            "3000\n",
            "Episode : 3000, avg : -200.0, min : -200.0, max : -200.0\n",
            "3500\n",
            "Episode : 3500, avg : -199.774, min : -200.0, max : -171.0\n",
            "4000\n",
            "Episode : 4000, avg : -199.616, min : -200.0, max : -159.0\n",
            "4500\n",
            "Episode : 4500, avg : -198.212, min : -200.0, max : -155.0\n",
            "5000\n",
            "Episode : 5000, avg : -191.346, min : -200.0, max : -152.0\n",
            "5500\n",
            "Episode : 5500, avg : -197.346, min : -200.0, max : -162.0\n",
            "6000\n",
            "Episode : 6000, avg : -197.35, min : -200.0, max : -153.0\n",
            "6500\n",
            "Episode : 6500, avg : -188.496, min : -200.0, max : -117.0\n",
            "7000\n",
            "Episode : 7000, avg : -189.452, min : -200.0, max : -148.0\n",
            "7500\n",
            "Episode : 7500, avg : -187.926, min : -200.0, max : -152.0\n",
            "8000\n",
            "Episode : 8000, avg : -183.3, min : -200.0, max : -120.0\n",
            "8500\n",
            "Episode : 8500, avg : -177.532, min : -200.0, max : -145.0\n",
            "9000\n",
            "Episode : 9000, avg : -176.484, min : -200.0, max : -117.0\n",
            "9500\n",
            "Episode : 9500, avg : -166.874, min : -200.0, max : -117.0\n"
          ],
          "name": "stdout"
        },
        {
          "output_type": "display_data",
          "data": {
            "image/png": "[encoded data removed]",
            "text/plain": [
              "<Figure size 432x288 with 1 Axes>"
            ]
          },
          "metadata": {
            "tags": []
          }
        }
      ]
    },
    {
      "cell_type": "code",
      "metadata": {
        "id": "7W03qlj6_TKB",
        "colab_type": "code",
        "colab": {}
      },
      "source": [
        ""
      ],
      "execution_count": 0,
      "outputs": []
    },
    {
      "cell_type": "markdown",
      "metadata": {
        "id": "HkmdcYOdAtrY",
        "colab_type": "text"
      },
      "source": [
        "출처:\n",
        "\n",
        "https://youtu.be/CBTbifYx6a8?list=PLQVvvaa0QuDezJFIOU5wDdfy4e9vdnx-7\n",
        "\n",
        "\n",
        "https://pythonprogramming.net/q-learning-analysis-reinforcement-learning-python-tutorial/"
      ]
    },
    {
      "cell_type": "code",
      "metadata": {
        "id": "FuhuUvnkA6NF",
        "colab_type": "code",
        "colab": {}
      },
      "source": [
        ""
      ],
      "execution_count": 0,
      "outputs": []
    }
  ]
}